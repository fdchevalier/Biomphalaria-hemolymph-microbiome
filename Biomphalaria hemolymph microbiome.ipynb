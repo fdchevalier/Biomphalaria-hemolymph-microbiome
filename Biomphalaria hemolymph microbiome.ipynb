{
 "cells": [
  {
   "cell_type": "markdown",
   "metadata": {},
   "source": [
    "# Snail hemolymph microbiome\n",
    "\n",
    "\n",
    "## Aim\n",
    "\n",
    "This notebook contains the different steps to install the environment, download the data and perform the data analysis. \n",
    "\n",
    "\n",
    "Several folders present or will be created during the analysis. Here is the list of the folders and their content:\n",
    "* **data**: Raw data files used for the analysis.\n",
    "* **.env**: Files needed to create appropriate environment.\n",
    "* **graphs**: Graphical representation of the data. If not existing, this will be created during the analysis\n",
    "* **results**: Files that are generating through data processing. If not existing, this will be created during the analysis\n",
    "* **scripts**: Scripts used for the analysis.\n",
    "\n",
    "\n",
    "## Environment and data\n",
    "\n",
    "### Creating environment"
   ]
  },
  {
   "cell_type": "code",
   "execution_count": null,
   "metadata": {},
   "outputs": [],
   "source": [
    "# Check if conda available\n",
    "[[ ! $(which conda 2> /dev/null) ]] && echo \"conda not available in \\$PATH. Exiting...\" && exit 1\n",
    "\n",
    "# Creating conda environment\n",
    "conda env create -f .env/env.yml"
   ]
  },
  {
   "cell_type": "markdown",
   "metadata": {},
   "source": [
    "This cell must be run each time a new session of Jupyter is run."
   ]
  },
  {
   "cell_type": "code",
   "execution_count": null,
   "metadata": {},
   "outputs": [],
   "source": [
    "# Activate the environment\n",
    "source $(sed \"s,/bin/conda,,\" <<<$CONDA_EXE)/etc/profile.d/conda.sh\n",
    "conda activate ubiome_hml"
   ]
  },
  {
   "cell_type": "code",
   "execution_count": null,
   "metadata": {
    "scrolled": true
   },
   "outputs": [],
   "source": [
    "# Installing needed R packages\n",
    "Rscript \".env/R package dependencies.R\""
   ]
  },
  {
   "cell_type": "markdown",
   "metadata": {},
   "source": [
    "### Downloading sequencing data\n",
    "\n",
    "This step downloads the fastq files of the different samples."
   ]
  },
  {
   "cell_type": "code",
   "execution_count": null,
   "metadata": {},
   "outputs": [],
   "source": [
    "# Data directory\n",
    "ldir=\"data/libraries\"\n",
    "[[ ! -d \"$ldir\" ]] && mkdir -p \"$ldir\"\n",
    "\n",
    "# Bioproject\n",
    "bioproject=PRJNA613098\n",
    "\n",
    "# Download related information to data project\n",
    "wget -q -O runinfo \"http://trace.ncbi.nlm.nih.gov/Traces/sra/sra.cgi?save=efetch&rettype=runinfo&db=sra&term=${bioproject}\"\n",
    "\n",
    "# Field of interest (library name and weblink)\n",
    "fdn=$(head -n 1 runinfo | tr \",\" \"\\n\" | grep -w -n \"LibraryName\" | cut -d \":\" -f 1)\n",
    "fdr=$(head -n 1 runinfo | tr \",\" \"\\n\" | grep -w -n \"Run\" | cut -d \":\" -f 1)\n",
    "\n",
    "# Download fastq files\n",
    "while read line\n",
    "do\n",
    "    # Filename and download link\n",
    "    fln=$(cut -d \",\" -f $fdn <<<$line)\n",
    "    run=$(cut -d \",\" -f $fdr <<<$line)\n",
    "    \n",
    "    # Download\n",
    "    echo \"$fln\"\n",
    "    #wget -P \"$ldir\" -O \"$fln\" \"http://trace.ncbi.nlm.nih.gov/Traces/sra/sra.cgi?cmd=dload&run_list=${run}&format=fastq\"\n",
    "    fastq-dump -O \"$ldir\" --split-files \"$run\"\n",
    "    \n",
    "    mv \"$ldir/${run}_1.fastq\" \"$ldir/${fln}_R1.fastq\"\n",
    "    mv \"$ldir/${run}_2.fastq\" \"$ldir/${fln}_R2.fastq\"\n",
    "        \n",
    "done < <(tail -n +2 runinfo | head -1)\n",
    "\n",
    "# Compress files\n",
    "pigz \"$ldir/\"*\n",
    "\n",
    "rm runinfo"
   ]
  },
  {
   "cell_type": "markdown",
   "metadata": {},
   "source": [
    "### Downloading database\n",
    "\n",
    "The Silva database is used to assign taxonomy to the ASVs generated from the sequencing data."
   ]
  },
  {
   "cell_type": "code",
   "execution_count": null,
   "metadata": {},
   "outputs": [],
   "source": [
    "# Database directory\n",
    "dbdir=\"data/Silva db\"\n",
    "[[ ! -d \"$dbdir\" ]] && mkdir -p \"$dbdir\"\n",
    "\n",
    "\n",
    "# Download and extract the relevant Silva file\n",
    "wget -P \"$dbdir\" 'https://www.arb-silva.de/fileadmin/silva_databases/qiime/Silva_132_release.zip'\n",
    "unzip \"$dbdir/Silva_132_release.zip\" -d \"$dbdir\" && rm \"$dbdir/Silva_132_release.zip\"\n",
    "\n",
    "# Import the sequence database in Qiime format\n",
    "qiime tools import \\\n",
    "  --input-path \"$dbdir/SILVA_132_QIIME_release/rep_set/rep_set_16S_only/99/silva_132_99_16S.fna\" \\\n",
    "  --output-path \"$dbdir/silva_132_99_16S.qza\" \\\n",
    "  --type 'FeatureData[Sequence]'\n",
    "\n",
    "# Import the taxonomy database in Qiime format\n",
    "qiime tools import \\\n",
    "  --input-path \"$dbdir/SILVA_132_QIIME_release/taxonomy/16S_only/99/taxonomy_all_levels.txt\" \\\n",
    "  --output-path \"$dbdir/silva_132_99_16S_taxa.qza\" \\\n",
    "  --type 'FeatureData[Taxonomy]' \\\n",
    "  --input-format HeaderlessTSVTaxonomyFormat"
   ]
  },
  {
   "cell_type": "markdown",
   "metadata": {},
   "source": [
    "## Qiime pipeline\n",
    "\n",
    "This section process the data to generate ASVs and assign taxonomy."
   ]
  },
  {
   "cell_type": "code",
   "execution_count": null,
   "metadata": {},
   "outputs": [],
   "source": [
    "# Qiime output directory\n",
    "qdir=\"results/1-qiime\"\n",
    "[[ ! -d \"$qdir\" ]] && mkdir -p \"$qdir\"\n",
    "\n",
    "# Metadata file\n",
    "metadata=\"data/sample-metadata.tsv\""
   ]
  },
  {
   "cell_type": "markdown",
   "metadata": {},
   "source": [
    "### Sequencing data\n",
    "\n",
    "If sequencing data are present, they will be imported as a Qiime artifact."
   ]
  },
  {
   "cell_type": "code",
   "execution_count": null,
   "metadata": {},
   "outputs": [],
   "source": [
    "# Check for sequencing data\n",
    "[[ ! $(find \"$ldir\" -type f -name *fastq.gz) ]] && echo  \"No sequencing data. Exiting...\" && exit 1\n",
    "\n",
    "# Create the manifest for importing data in artefact\n",
    "## source: https://docs.qiime2.org/2019.4/tutorials/importing/#fastq-manifest-formats\n",
    "for i in $(ls \"$ldir\"/* | sed \"s,_R[12].fastq.*,,g\" | uniq)\n",
    "do\n",
    "    nm=$(sed \"s,$ldir/,,\" <<<$i)\n",
    "    fl=$(ls -1 \"$PWD/$i\"* | tr \"\\n\" \"\\t\")\n",
    "\n",
    "    echo -e \"$nm\\t$fl\"\n",
    "done > \"$qdir/manifest\"\n",
    "\n",
    "# Add header\n",
    "sed -i \"1s/^/sample-id\\tforward-absolute-filepath\\treverse-absolute-filepath\\n/\" \"$qdir/manifest\"\n",
    "\n",
    "# Import data\n",
    "## source: https://docs.qiime2.org/2019.4/tutorials/importing/\n",
    "qiime tools import \\\n",
    "  --type 'SampleData[PairedEndSequencesWithQuality]' \\\n",
    "  --input-path \"$qdir/manifest\" \\\n",
    "  --input-format PairedEndFastqManifestPhred33V2 \\\n",
    "  --output-path \"$qdir/demux-paired-end.qza\""
   ]
  },
  {
   "cell_type": "markdown",
   "metadata": {},
   "source": [
    "**Note**:\n",
    "* No need to remove adapters and barcodes. This has been done during `bcl2fastq`. This can be checked using `grep`.\n",
    "* Importing with `--input-format PairedEndFastqManifestPhred33V2` instead of `--input-format CasavaOneEightSingleLanePerSampleDirFmt` for [custom sample names](https://docs.qiime2.org/2019.4/tutorials/importing/#fastq-manifest-formats).\n",
    "\n",
    "### Data quality\n",
    "\n",
    "To assess data quality, we need to generate a visualization to check data quality. The visualization can be view on [Qiime2 website](https://view.qiime2.org/)"
   ]
  },
  {
   "cell_type": "code",
   "execution_count": null,
   "metadata": {},
   "outputs": [],
   "source": [
    "# Make a summary to check read quality\n",
    "qiime demux summarize \\\n",
    "  --i-data \"$qdir/demux-paired-end.qza\" \\\n",
    "  --o-visualization \"$qdir/demux-paired-end.qzv\""
   ]
  },
  {
   "cell_type": "raw",
   "metadata": {},
   "source": [
    "# This cell must be run in a terminal in place of viewing the visualization on the Qiime2 website.\n",
    "[[ -z $DISPLAY ]] && echo \"You need a X11 connection.\"\n",
    "qdir=\"results/1-qiime\"\n",
    "qiime tools view \"$qdir/demux-paired-end.qzv\""
   ]
  },
  {
   "cell_type": "markdown",
   "metadata": {},
   "source": [
    "**Note**: read quality drops toward the end but are still above 10. So no trimming done.\n",
    "\n",
    "### Sequence clustering and denoising\n",
    "\n",
    "This steps generates ASVs from the sequencing data. This step is perform by the `dada2` module."
   ]
  },
  {
   "cell_type": "code",
   "execution_count": null,
   "metadata": {},
   "outputs": [],
   "source": [
    "[[ -f \"$qdir/table.qza\" ]] && echo \"ASV file (table.qza) exists already. Exiting...\" && exit 1\n",
    "\n",
    "# Run dada2\n",
    "qiime dada2 denoise-paired \\\n",
    "  --i-demultiplexed-seqs \"$qdir/demux-paired-end.qza\" \\\n",
    "  --p-trunc-len-f 250 \\\n",
    "  --p-trunc-len-r 250 \\\n",
    "  --p-max-ee 5 \\\n",
    "  --p-n-threads 0 \\\n",
    "  --o-table \"$qdir/table.qza\" \\\n",
    "  --o-representative-sequences \"$qdir/rep-seqs.qza\" \\\n",
    "  --o-denoising-stats \"$qdir/denoising-stats.qza\"\n",
    "\n",
    "# Add metadata information to the denoising stats\n",
    "qiime metadata tabulate \\\n",
    "    --m-input-file \"$metadata\" \\\n",
    "    --m-input-file \"$qdir/denoising-stats.qza\" \\\n",
    "    --o-visualization \"$qdir/denoising-stats.qzv\""
   ]
  },
  {
   "cell_type": "markdown",
   "metadata": {},
   "source": [
    "**Note:** Visual inspection shows that optimal number of features is 25079 which allows retaining 2,633,295 (46.33%) features in 105 (99.06%) samples. This leads to the exclusion of one sample: `Ba.Water.1`.\n",
    "\n",
    "### Taxonomy identification\n",
    "\n",
    "This step assigns taxonomy to the ASVs generated."
   ]
  },
  {
   "cell_type": "code",
   "execution_count": null,
   "metadata": {},
   "outputs": [],
   "source": [
    "qiime feature-classifier classify-consensus-vsearch \\\n",
    "  --i-query \"$qdir/rep-seqs.qza\" \\\n",
    "  --i-reference-reads \"$dbdir/silva_132_99_16S.qza\" \\\n",
    "  --i-reference-taxonomy \"$dbdir/silva_132_99_16S_taxa.qza\" \\\n",
    "  --p-perc-identity 0.97 \\\n",
    "  --p-threads $(nproc) \\\n",
    "  --o-classification \"$qdir/rep-seqs_taxa.qza\""
   ]
  },
  {
   "cell_type": "markdown",
   "metadata": {},
   "source": [
    "### Phylogeny\n",
    "\n",
    "This step generates a phylogeny from the ASVs ([source](https://chmi-sops.github.io/mydoc_qiime2.html))."
   ]
  },
  {
   "cell_type": "code",
   "execution_count": null,
   "metadata": {},
   "outputs": [],
   "source": [
    "[[ -f \"$qdir/rooted-tree.qza\" ]] && echo \"A tree file (rooted-tree.qza) exists already. Exiting...\" && exit 1\n",
    "\n",
    "# Multiple seqeunce alignment using Mafft\n",
    "qiime alignment mafft \\\n",
    "    --i-sequences \"$qdir/rep-seqs.qza\" \\\n",
    "    --o-alignment \"$qdir/aligned-rep-seqs.qza\"\n",
    "\n",
    "# Masking (or filtering) the alignment to remove positions that are highly variable. These positions are generally considered to add noise to a resulting phylogenetic tree.\n",
    "qiime alignment mask \\\n",
    "    --i-alignment \"$qdir/aligned-rep-seqs.qza\" \\\n",
    "    --o-masked-alignment \"$qdir/masked-aligned-rep-seqs.qza\"\n",
    "\n",
    "# Creating tree using the Fasttree program\n",
    "qiime phylogeny fasttree \\\n",
    "    --i-alignment \"$qdir/masked-aligned-rep-seqs.qza\" \\\n",
    "    --o-tree \"$qdir/unrooted-tree.qza\"\n",
    "\n",
    "# Root the tree using the longest root\n",
    "qiime phylogeny midpoint-root \\\n",
    "    --i-tree \"$qdir/unrooted-tree.qza\" \\\n",
    "    --o-rooted-tree \"$qdir/rooted-tree.qza\""
   ]
  },
  {
   "cell_type": "markdown",
   "metadata": {},
   "source": [
    "## Library analysis\n",
    "\n",
    "Analyze Qiime visualization and generate table summarizing number of reads after each step of the pipeline."
   ]
  },
  {
   "cell_type": "code",
   "execution_count": null,
   "metadata": {},
   "outputs": [],
   "source": [
    "scripts/library_stats.R"
   ]
  },
  {
   "cell_type": "markdown",
   "metadata": {},
   "source": [
    "## Microbiome diversity\n",
    "\n",
    "This step analyze ASV data using different methods (rarefaction curve, $\\alpha$ and $\\beta$ diversity). Technical replicates are also evaluated to show the robustness of the library generation method. Details about the methods used are in the R script. Analysis of the results are in the manuscript."
   ]
  },
  {
   "cell_type": "code",
   "execution_count": null,
   "metadata": {},
   "outputs": [],
   "source": [
    "Rscript scripts/microbiome_diversity.R"
   ]
  },
  {
   "cell_type": "markdown",
   "metadata": {},
   "source": [
    "## Functional inference\n",
    "\n",
    "Analysis following this [tutorial](https://github.com/picrust/picrust2/wiki/PICRUSt2-Tutorial-(v2.1.4-beta)#pathway-level-inference)"
   ]
  },
  {
   "cell_type": "code",
   "execution_count": null,
   "metadata": {},
   "outputs": [],
   "source": [
    "# PiCRUST output directory\n",
    "pdir=\"results/2-picrust2\"\n",
    "[[ ! -d \"$pdir\" ]] && mkdir -p \"$pdir\""
   ]
  },
  {
   "cell_type": "code",
   "execution_count": null,
   "metadata": {},
   "outputs": [],
   "source": [
    "# Filter table to retain sample from each replicate\n",
    "for i in {1..2}\n",
    "do\n",
    "    awk -v i=$i 'NR==1; $5 == i {print}' \"$metadata\" > \"$qdir/.metadata\"\n",
    "    \n",
    "    qiime feature-table filter-samples \\\n",
    "        --i-table \"$qdir/table.qza\"  \\\n",
    "        --m-metadata-file \"$qdir/.metadata\" \\\n",
    "        --o-filtered-table \"$qdir/table_rep$i.qza\"\n",
    "done\n",
    "\n",
    "# Clean\n",
    "rm \"$qdir/.metadata\""
   ]
  },
  {
   "cell_type": "code",
   "execution_count": null,
   "metadata": {},
   "outputs": [],
   "source": [
    "qiime tools export \\\n",
    "    --input-path \"$qdir/rep-seqs.qza\" \\\n",
    "    --output-path \"$pdir/\"\n",
    "\n",
    "for i in {1..2}\n",
    "do\n",
    "    qiime tools export \\\n",
    "        --input-path \"$qdir/table_rep$i.qza\" \\\n",
    "        --output-path \"$pdir/rep$i\"\n",
    "done"
   ]
  },
  {
   "cell_type": "code",
   "execution_count": null,
   "metadata": {},
   "outputs": [],
   "source": [
    "# Place reads into reference tree\n",
    "place_seqs.py -s \"$pdir/dna-sequences.fasta\" -o \"$pdir/out.tre\" -p $(nproc) \\\n",
    "    --intermediate \"$pdir/intermediate/place_seqs\"\n",
    "\n",
    "# Hidden-state prediction of gene families\n",
    "hsp.py -i 16S -t \"$pdir/out.tre\" -o \"$pdir/marker_predicted_and_nsti.tsv.gz\" -p $(nproc) -n\n",
    "hsp.py -i EC -t \"$pdir/out.tre\" -o \"$pdir/EC_predicted.tsv.gz\" -p $(nproc) -n\n",
    "\n",
    "# Number of outliers\n",
    "zcat \"$pdir/marker_predicted_and_nsti.tsv.gz\"  | tail -n +2 | awk '$3 >= 2' | wc -l"
   ]
  },
  {
   "cell_type": "code",
   "execution_count": null,
   "metadata": {},
   "outputs": [],
   "source": [
    "# Run for each replicate\n",
    "for i in {1..2}\n",
    "do\n",
    "    # Generate metagenome predictions\n",
    "    metagenome_pipeline.py \\\n",
    "        -i \"$pdir/rep$i/feature-table.biom\" \\\n",
    "        -m \"$pdir/marker_predicted_and_nsti.tsv.gz\" \\\n",
    "        -f \"$pdir/EC_predicted.tsv.gz\" \\\n",
    "        --max_nsti 2.0 \\\n",
    "        -o \"$pdir/rep$i/EC_metagenome_out\" \\\n",
    "        --strat_out --metagenome_contrib\n",
    "\n",
    "    # Pathway-level inference\n",
    "    pathway_pipeline.py \\\n",
    "        -i \"$pdir/rep$i/EC_metagenome_out/pred_metagenome_strat.tsv.gz\" \\\n",
    "        -o \"$pdir/rep$i/pathways_out\" -p $(nproc)\n",
    "\n",
    "    #Add functional descriptions\n",
    "    add_descriptions.py -i \"$pdir/rep$i/EC_metagenome_out/pred_metagenome_unstrat.tsv.gz\" -m EC \\\n",
    "                        -o \"$pdir/rep$i/EC_metagenome_out/pred_metagenome_unstrat_descrip.tsv.gz\"\n",
    "\n",
    "    add_descriptions.py -i \"$pdir/rep$i/pathways_out/path_abun_unstrat.tsv.gz\" -m METACYC \\\n",
    "                        -o \"$pdir/rep$i/pathways_out/path_abun_unstrat_descrip.tsv.gz\"\n",
    "done"
   ]
  },
  {
   "cell_type": "code",
   "execution_count": null,
   "metadata": {},
   "outputs": [],
   "source": [
    "scripts/pathway_analysis.R"
   ]
  },
  {
   "cell_type": "markdown",
   "metadata": {},
   "source": [
    "## Microbiome density\n",
    "\n",
    "Could the differences observed between population explained by microbe density?"
   ]
  },
  {
   "cell_type": "code",
   "execution_count": null,
   "metadata": {},
   "outputs": [],
   "source": [
    "# qPCR output directory\n",
    "ddir=\"data/qPCR\"\n",
    "[[ ! -d \"$ddir\" ]] && echo \"$ddir and qPCR data are missing. Exiting...\" && exit 1\n",
    "\n",
    "# Analyze data\n",
    "scripts/microbiome_density.R"
   ]
  }
 ],
 "metadata": {
  "kernelspec": {
   "display_name": "Bash",
   "language": "bash",
   "name": "bash"
  },
  "language_info": {
   "codemirror_mode": "shell",
   "file_extension": ".sh",
   "mimetype": "text/x-sh",
   "name": "bash"
  },
  "toc": {
   "base_numbering": 1,
   "nav_menu": {},
   "number_sections": false,
   "sideBar": true,
   "skip_h1_title": true,
   "title_cell": "Table of Contents",
   "title_sidebar": "Contents",
   "toc_cell": false,
   "toc_position": {
    "height": "calc(100% - 180px)",
    "left": "10px",
    "top": "150px",
    "width": "230px"
   },
   "toc_section_display": true,
   "toc_window_display": true
  },
  "varInspector": {
   "cols": {
    "lenName": 16,
    "lenType": 16,
    "lenVar": 40
   },
   "kernels_config": {
    "python": {
     "delete_cmd_postfix": "",
     "delete_cmd_prefix": "del ",
     "library": "var_list.py",
     "varRefreshCmd": "print(var_dic_list())"
    },
    "r": {
     "delete_cmd_postfix": ") ",
     "delete_cmd_prefix": "rm(",
     "library": "var_list.r",
     "varRefreshCmd": "cat(var_dic_list()) "
    }
   },
   "types_to_exclude": [
    "module",
    "function",
    "builtin_function_or_method",
    "instance",
    "_Feature"
   ],
   "window_display": false
  }
 },
 "nbformat": 4,
 "nbformat_minor": 2
}
